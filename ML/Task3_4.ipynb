{
  "nbformat": 4,
  "nbformat_minor": 0,
  "metadata": {
    "colab": {
      "name": "Task3_4.ipynb",
      "provenance": [],
      "collapsed_sections": [],
      "mount_file_id": "1IIY0ROuq-J6bJiGFTEcnTJ5Wbrl7WNoW",
      "authorship_tag": "ABX9TyPA/YeJCLNrXsBZu+BziDEX",
      "include_colab_link": true
    },
    "kernelspec": {
      "name": "python3",
      "display_name": "Python 3"
    },
    "language_info": {
      "name": "python"
    }
  },
  "cells": [
    {
      "cell_type": "markdown",
      "metadata": {
        "id": "view-in-github",
        "colab_type": "text"
      },
      "source": [
        "<a href=\"https://colab.research.google.com/github/Thinley24/TIJ-Intern-2022-/blob/main/ML/Task3_4.ipynb\" target=\"_parent\"><img src=\"https://colab.research.google.com/assets/colab-badge.svg\" alt=\"Open In Colab\"/></a>"
      ]
    },
    {
      "cell_type": "code",
      "execution_count": null,
      "metadata": {
        "colab": {
          "base_uri": "https://localhost:8080/"
        },
        "id": "hXWTglSnWgIu",
        "outputId": "36adcd56-93bc-4bd0-f673-eafc5c1c212a"
      },
      "outputs": [
        {
          "output_type": "stream",
          "name": "stdout",
          "text": [
            "Drive already mounted at /content/drive; to attempt to forcibly remount, call drive.mount(\"/content/drive\", force_remount=True).\n"
          ]
        }
      ],
      "source": [
        "import re\n",
        "import csv\n",
        "from google.colab import drive\n",
        "drive.mount('/content/drive')"
      ]
    },
    {
      "cell_type": "code",
      "source": [
        "path1 = \"/content/drive/MyDrive/Colab Notebooks/datasets/data_cleaning2.txt\"\n",
        "path2 = '/content/drive/MyDrive/Colab Notebooks/Outputs/cleaned_data.csv'"
      ],
      "metadata": {
        "id": "hwXvfoBjWm1U"
      },
      "execution_count": null,
      "outputs": []
    },
    {
      "cell_type": "markdown",
      "source": [
        "To open the file"
      ],
      "metadata": {
        "id": "mjGG1BvbYcEg"
      }
    },
    {
      "cell_type": "code",
      "source": [
        "with open(path1) as infile:\n",
        "  stripped = [line.strip() for line in infile if not line.isspace()]\n",
        "  stripped.remove(\"Advertisement\")\n",
        "  print(stripped)\n",
        "  pat = re.compile(r\"\\bexamples\\b\", re.IGNORECASE) \n",
        "\n",
        "  for ele in stripped:\n",
        "    ele_arr = list(map(str.split, stripped))\n",
        "\n",
        "topics = [i[0] for i in ele_arr if pat.search(str(i))!=None and len(i)==2]\n",
        "topic_arr = [' '.join(i) for i in ele_arr if pat.search(str(i))!=None and len(i)==2]\n",
        "topics.append('End')\n",
        "topic_arr.append('End Examples')\n",
        "print(topic_arr)"
      ],
      "metadata": {
        "colab": {
          "base_uri": "https://localhost:8080/"
        },
        "id": "4mH0onTsWt-h",
        "outputId": "b0a2d2b7-a3cb-4e09-8c23-a85175d20d42"
      },
      "execution_count": null,
      "outputs": [
        {
          "output_type": "stream",
          "name": "stdout",
          "text": [
            "['Figure of Speech Examples by Type', 'A figure of speech is a word or phrase that possesses a separate meaning from its literal definition. It can be a metaphor or simile designed to make a comparison. It can be the repetition of alliteration or the exaggeration of hyperbole to provide a dramatic effect. There are a wealth of these literary tools in the English language.', 'Examples of Figures of Speech', \"Figures of speech lend themselves particularly well to literature and poetry. They also pack a punch in speeches and movie lines. Indeed, these tools abound in nearly every corner of life. Let's start with one of the more lyrical devices — alliteration.\", 'Alliteration Examples', 'Alliteration is the repetition of the beginning sounds of neighboring words. Examples include:', 'She sells seashells.', 'Walter wondered where Winnie was.', 'Blue baby bonnets bobbed through the bayou.', 'Nick needed new notebooks.', \"Fred fried frogs' legs on Friday.\", 'Anaphora Examples', 'Anaphora is a technique where several phrases or verses begin with the same word or words. For example:', '\"I came, I saw, I conquered.\" - Julius Caesar', '\"Mad world! Mad kings! Mad composition!\" - King John II, William Shakespeare', '\"It was the best of times, it was the worst of times, it was the age of wisdom, it was the age of foolishness.\" - A Tale of Two Cities, Charles Dickens', '\"With malice toward none; with charity for all; with firmness in the right.\" - Abraham Lincoln', '\"We shall not flag or fail. We shall go on to the end ... we shall never surrender.\" - Winston Churchill', 'Assonance Examples', \"Assonance is the repetition of vowel sounds (not just letters) in words that are close together. The sounds don't have to be at the beginning of the word. Some examples include:\", 'A - \"For the rare and radiant maiden whom the angels named Lenore.\" - \"The Raven,\" Edgar Allan Poe', 'E - \"Therefore, all seasons shall be sweet to thee.\" - \"Frost at Midnight,\" Samuel Taylor Coleridge)', 'I - \"From what I\\'ve tasted of desire, I hold with those who favor fire.\" - \"Fire and Ice,\" Robert Frost', 'O - \"Oh hear old Triton blow his wreathed horn.\" - \"The World is Too Much With Us,\" William Wordsworth', 'U - \"Uncertain rustling of each purple curtain ...\" - \"The Raven,\" Edgar Allen Poe', 'Advertisement', 'Euphemism Examples', 'Euphemism is a mild or indirect term that often substitutes a harsh, blunt, or offensive term. For example:', 'A little thin on top (instead of \"going bald\")', 'Fell off the back of a truck (instead of \"stolen\")', 'Letting you go (instead of \"firing you\")', 'Passed away (instead of \"died\")', 'Economical with the truth (instead of \"liar\")', 'Hyperbole Examples', 'Hyperbole uses exaggeration for emphasis or effect. Examples include:', \"I've told you to stop a thousand times.\", 'That must have cost a billion dollars.', 'I could do this forever.', \"She's older than dirt.\", 'Everybody knows that.', 'Irony Examples', \"Irony occurs when there's a marked contrast between what is said and what is meant, or between appearance and reality. For example:\", '\"How nice!\" she said when I told her I had to work all weekend. (verbal irony)', 'A traffic cop gets suspended for not paying his parking tickets. (situational irony)', 'The Titanic was said to be unsinkable, but it sank on its first voyage. (situational irony)', 'We named our tiny Chihuahua \"Brutus.\" (verbal irony)', 'The audience knows the killer is hiding in a closet in a scary movie, but the actors do not. (dramatic irony)', 'Metaphor Examples', 'A metaphor makes a comparison between two unlike things or ideas. Examples include:', 'heart of stone', 'time is money', 'the world is a stage', \"she's a night owl\", \"he's an ogre\", 'Onomatopoeia Examples', 'Onomatopoeia is the term for a word that sounds like what it is describing. For examples:', 'whoosh', 'splat', 'buzz', 'click', 'oink', 'Advertisement', 'Oxymoron Examples', 'An oxymoron is two contradictory terms used together. Some examples include:', 'peace force', 'kosher ham', 'jumbo shrimp', 'sweet sorrow', 'free market', 'Personification Examples', 'Personification gives human qualities to non-living things or ideas. Examples include:', 'The flowers nodded.', 'The snowflakes danced.', 'The thunder grumbled.', 'The fog crept in.', 'The wind howled.', 'Simile Examples', 'A simile is a comparison between two unlike things using the words \"like\" or \"as.\" For example:', 'as slippery as an eel', 'like peas in a pod', 'as blind as a bat', 'eats like a pig', 'as wise as an owl', 'Synecdoche Examples', 'Synecdoche occurs when a part is represented by the whole or, conversely, the whole is represented by the part. Examples include:', 'wheels can represent a car', 'the police can represent one policeman', 'plastic can represent credit cards', 'Coke can represent any cola drink', 'hired hands present workers', 'Understatement Examples', 'An understatement occurs when something is said to make something appear less important or less serious. For example:', \"It's just a scratch. (referring to a large dent)\", \"It's a little dry and sandy. (referring to the driest desert in the world)\", 'The weather is cooler today. (referring to sub-zero temperatures)', 'It was interesting. (referring to a bad or difficult experience)', 'It stings a bit. (referring to a serious wound or injury)', 'Idiom Examples', 'When someone says \"that\\'s just a figure of speech,\" they may be referring to a common colloquialism or idiom — a non-literal expression that\\'s common in a particular language. For example:', \"I'm as mad as a wet hen! (I'm extremely angry.)\", \"Don't let the cat out of the bag. (Don't reveal a secret.)\", \"That's killing two birds with one stone. (Getting two tasks accomplished at once.)\", 'Our family has some skeletons in the closet. (Our family has secrets.)', \"I'm feeling under the weather. (I don't feel well.)\", \"Wow, you're really in a pickle now. (You're really in trouble now.)\", 'He was trapped between a rock and a hard place. (He was in a situation with two bad outcomes.)', 'Advertisement', 'Give Your Writing Some Style', 'Hopefully, this sampling of figures of speech will offer a nice springboard for you to sprinkle a variety of stylistic and rhetorical devices into your writing. The goal is to be able to express yourself in a more creative, interesting, and eye-catching manner. Use these resources to give your writing that extra oomph:', 'Tone Word Examples: 75+ Ways to Describe Tone', 'Examples of Symbolism: Signifying Ideas Through Symbols', 'Descriptive Words for Food: Taste, Texture and Beyond', 'Jennifer Gunner', 'Staff Writer']\n",
            "['Alliteration Examples', 'Anaphora Examples', 'Assonance Examples', 'Euphemism Examples', 'Hyperbole Examples', 'Irony Examples', 'Metaphor Examples', 'Onomatopoeia Examples', 'Oxymoron Examples', 'Personification Examples', 'Simile Examples', 'Synecdoche Examples', 'Understatement Examples', 'Idiom Examples', 'End Examples']\n"
          ]
        }
      ]
    },
    {
      "cell_type": "code",
      "source": [
        "content_arr = []\n",
        "with open(path1) as infile:\n",
        "  data = ' '.join(infile.read().split())\n",
        "  new_data = re.sub(r'\\sGive Your Writing Some Style\\s', 'End Examples', data)\n",
        "print(data)\n",
        "  \n",
        "with open(path2, 'w') as outfile:\n",
        "  header = ['TOPIC', 'CONTENT']\n",
        "  writer = csv.DictWriter(outfile, fieldnames = header)\n",
        "  writer.writeheader()\n",
        "\n",
        "  for i in range(len(topics)-1):\n",
        "    content = re.findall(rf\"(?<={topic_arr[i]})(?s)(.*?)(?={topic_arr[i+1]})\", new_data)\n",
        "    content_arr.append(content)\n",
        "    # last_content = re.findall(r'(?<=Idiom Examples)(?s)(.*?)(?=Advertisement)', new_data)\n",
        "    # content_arr.append(last_content)\n",
        "    writer.writerow({'TOPIC':topics[i], 'CONTENT':content_arr[i]})\n",
        "print(content_arr)"
      ],
      "metadata": {
        "id": "eQH3tWera7x8",
        "colab": {
          "base_uri": "https://localhost:8080/"
        },
        "outputId": "7bea27d9-a388-4268-fac2-3cf75a45e364"
      },
      "execution_count": null,
      "outputs": [
        {
          "output_type": "stream",
          "name": "stdout",
          "text": [
            "Figure of Speech Examples by Type A figure of speech is a word or phrase that possesses a separate meaning from its literal definition. It can be a metaphor or simile designed to make a comparison. It can be the repetition of alliteration or the exaggeration of hyperbole to provide a dramatic effect. There are a wealth of these literary tools in the English language. Advertisement Examples of Figures of Speech Figures of speech lend themselves particularly well to literature and poetry. They also pack a punch in speeches and movie lines. Indeed, these tools abound in nearly every corner of life. Let's start with one of the more lyrical devices — alliteration. Alliteration Examples Alliteration is the repetition of the beginning sounds of neighboring words. Examples include: She sells seashells. Walter wondered where Winnie was. Blue baby bonnets bobbed through the bayou. Nick needed new notebooks. Fred fried frogs' legs on Friday. Anaphora Examples Anaphora is a technique where several phrases or verses begin with the same word or words. For example: \"I came, I saw, I conquered.\" - Julius Caesar \"Mad world! Mad kings! Mad composition!\" - King John II, William Shakespeare \"It was the best of times, it was the worst of times, it was the age of wisdom, it was the age of foolishness.\" - A Tale of Two Cities, Charles Dickens \"With malice toward none; with charity for all; with firmness in the right.\" - Abraham Lincoln \"We shall not flag or fail. We shall go on to the end ... we shall never surrender.\" - Winston Churchill Assonance Examples Assonance is the repetition of vowel sounds (not just letters) in words that are close together. The sounds don't have to be at the beginning of the word. Some examples include: A - \"For the rare and radiant maiden whom the angels named Lenore.\" - \"The Raven,\" Edgar Allan Poe E - \"Therefore, all seasons shall be sweet to thee.\" - \"Frost at Midnight,\" Samuel Taylor Coleridge) I - \"From what I've tasted of desire, I hold with those who favor fire.\" - \"Fire and Ice,\" Robert Frost O - \"Oh hear old Triton blow his wreathed horn.\" - \"The World is Too Much With Us,\" William Wordsworth U - \"Uncertain rustling of each purple curtain ...\" - \"The Raven,\" Edgar Allen Poe Advertisement Euphemism Examples Euphemism is a mild or indirect term that often substitutes a harsh, blunt, or offensive term. For example: A little thin on top (instead of \"going bald\") Fell off the back of a truck (instead of \"stolen\") Letting you go (instead of \"firing you\") Passed away (instead of \"died\") Economical with the truth (instead of \"liar\") Hyperbole Examples Hyperbole uses exaggeration for emphasis or effect. Examples include: I've told you to stop a thousand times. That must have cost a billion dollars. I could do this forever. She's older than dirt. Everybody knows that. Irony Examples Irony occurs when there's a marked contrast between what is said and what is meant, or between appearance and reality. For example: \"How nice!\" she said when I told her I had to work all weekend. (verbal irony) A traffic cop gets suspended for not paying his parking tickets. (situational irony) The Titanic was said to be unsinkable, but it sank on its first voyage. (situational irony) We named our tiny Chihuahua \"Brutus.\" (verbal irony) The audience knows the killer is hiding in a closet in a scary movie, but the actors do not. (dramatic irony) Metaphor Examples A metaphor makes a comparison between two unlike things or ideas. Examples include: heart of stone time is money the world is a stage she's a night owl he's an ogre Onomatopoeia Examples Onomatopoeia is the term for a word that sounds like what it is describing. For examples: whoosh splat buzz click oink Advertisement Oxymoron Examples An oxymoron is two contradictory terms used together. Some examples include: peace force kosher ham jumbo shrimp sweet sorrow free market Personification Examples Personification gives human qualities to non-living things or ideas. Examples include: The flowers nodded. The snowflakes danced. The thunder grumbled. The fog crept in. The wind howled. Simile Examples A simile is a comparison between two unlike things using the words \"like\" or \"as.\" For example: as slippery as an eel like peas in a pod as blind as a bat eats like a pig as wise as an owl Synecdoche Examples Synecdoche occurs when a part is represented by the whole or, conversely, the whole is represented by the part. Examples include: wheels can represent a car the police can represent one policeman plastic can represent credit cards Coke can represent any cola drink hired hands present workers Understatement Examples An understatement occurs when something is said to make something appear less important or less serious. For example: It's just a scratch. (referring to a large dent) It's a little dry and sandy. (referring to the driest desert in the world) The weather is cooler today. (referring to sub-zero temperatures) It was interesting. (referring to a bad or difficult experience) It stings a bit. (referring to a serious wound or injury) Idiom Examples When someone says \"that's just a figure of speech,\" they may be referring to a common colloquialism or idiom — a non-literal expression that's common in a particular language. For example: I'm as mad as a wet hen! (I'm extremely angry.) Don't let the cat out of the bag. (Don't reveal a secret.) That's killing two birds with one stone. (Getting two tasks accomplished at once.) Our family has some skeletons in the closet. (Our family has secrets.) I'm feeling under the weather. (I don't feel well.) Wow, you're really in a pickle now. (You're really in trouble now.) He was trapped between a rock and a hard place. (He was in a situation with two bad outcomes.) Advertisement Give Your Writing Some Style Hopefully, this sampling of figures of speech will offer a nice springboard for you to sprinkle a variety of stylistic and rhetorical devices into your writing. The goal is to be able to express yourself in a more creative, interesting, and eye-catching manner. Use these resources to give your writing that extra oomph: Tone Word Examples: 75+ Ways to Describe Tone Examples of Symbolism: Signifying Ideas Through Symbols Descriptive Words for Food: Taste, Texture and Beyond Jennifer Gunner Staff Writer\n",
            "[[\" Alliteration is the repetition of the beginning sounds of neighboring words. Examples include: She sells seashells. Walter wondered where Winnie was. Blue baby bonnets bobbed through the bayou. Nick needed new notebooks. Fred fried frogs' legs on Friday. \"], [' Anaphora is a technique where several phrases or verses begin with the same word or words. For example: \"I came, I saw, I conquered.\" - Julius Caesar \"Mad world! Mad kings! Mad composition!\" - King John II, William Shakespeare \"It was the best of times, it was the worst of times, it was the age of wisdom, it was the age of foolishness.\" - A Tale of Two Cities, Charles Dickens \"With malice toward none; with charity for all; with firmness in the right.\" - Abraham Lincoln \"We shall not flag or fail. We shall go on to the end ... we shall never surrender.\" - Winston Churchill '], [' Assonance is the repetition of vowel sounds (not just letters) in words that are close together. The sounds don\\'t have to be at the beginning of the word. Some examples include: A - \"For the rare and radiant maiden whom the angels named Lenore.\" - \"The Raven,\" Edgar Allan Poe E - \"Therefore, all seasons shall be sweet to thee.\" - \"Frost at Midnight,\" Samuel Taylor Coleridge) I - \"From what I\\'ve tasted of desire, I hold with those who favor fire.\" - \"Fire and Ice,\" Robert Frost O - \"Oh hear old Triton blow his wreathed horn.\" - \"The World is Too Much With Us,\" William Wordsworth U - \"Uncertain rustling of each purple curtain ...\" - \"The Raven,\" Edgar Allen Poe Advertisement '], [' Euphemism is a mild or indirect term that often substitutes a harsh, blunt, or offensive term. For example: A little thin on top (instead of \"going bald\") Fell off the back of a truck (instead of \"stolen\") Letting you go (instead of \"firing you\") Passed away (instead of \"died\") Economical with the truth (instead of \"liar\") '], [\" Hyperbole uses exaggeration for emphasis or effect. Examples include: I've told you to stop a thousand times. That must have cost a billion dollars. I could do this forever. She's older than dirt. Everybody knows that. \"], [' Irony occurs when there\\'s a marked contrast between what is said and what is meant, or between appearance and reality. For example: \"How nice!\" she said when I told her I had to work all weekend. (verbal irony) A traffic cop gets suspended for not paying his parking tickets. (situational irony) The Titanic was said to be unsinkable, but it sank on its first voyage. (situational irony) We named our tiny Chihuahua \"Brutus.\" (verbal irony) The audience knows the killer is hiding in a closet in a scary movie, but the actors do not. (dramatic irony) '], [\" A metaphor makes a comparison between two unlike things or ideas. Examples include: heart of stone time is money the world is a stage she's a night owl he's an ogre \"], [' Onomatopoeia is the term for a word that sounds like what it is describing. For examples: whoosh splat buzz click oink Advertisement '], [' An oxymoron is two contradictory terms used together. Some examples include: peace force kosher ham jumbo shrimp sweet sorrow free market '], [' Personification gives human qualities to non-living things or ideas. Examples include: The flowers nodded. The snowflakes danced. The thunder grumbled. The fog crept in. The wind howled. '], [' A simile is a comparison between two unlike things using the words \"like\" or \"as.\" For example: as slippery as an eel like peas in a pod as blind as a bat eats like a pig as wise as an owl '], [' Synecdoche occurs when a part is represented by the whole or, conversely, the whole is represented by the part. Examples include: wheels can represent a car the police can represent one policeman plastic can represent credit cards Coke can represent any cola drink hired hands present workers '], [\" An understatement occurs when something is said to make something appear less important or less serious. For example: It's just a scratch. (referring to a large dent) It's a little dry and sandy. (referring to the driest desert in the world) The weather is cooler today. (referring to sub-zero temperatures) It was interesting. (referring to a bad or difficult experience) It stings a bit. (referring to a serious wound or injury) \"], [' When someone says \"that\\'s just a figure of speech,\" they may be referring to a common colloquialism or idiom — a non-literal expression that\\'s common in a particular language. For example: I\\'m as mad as a wet hen! (I\\'m extremely angry.) Don\\'t let the cat out of the bag. (Don\\'t reveal a secret.) That\\'s killing two birds with one stone. (Getting two tasks accomplished at once.) Our family has some skeletons in the closet. (Our family has secrets.) I\\'m feeling under the weather. (I don\\'t feel well.) Wow, you\\'re really in a pickle now. (You\\'re really in trouble now.) He was trapped between a rock and a hard place. (He was in a situation with two bad outcomes.) Advertisement']]\n"
          ]
        }
      ]
    },
    {
      "cell_type": "code",
      "source": [
        "import random\n",
        "import math\n",
        "import nltk\n",
        "nltk.download('punkt')\n",
        "from nltk.tokenize import word_tokenize"
      ],
      "metadata": {
        "id": "U82R7byAKUw-",
        "colab": {
          "base_uri": "https://localhost:8080/"
        },
        "outputId": "f1431d4e-cfac-4f6b-841c-a757787747ec"
      },
      "execution_count": null,
      "outputs": [
        {
          "output_type": "stream",
          "name": "stderr",
          "text": [
            "[nltk_data] Downloading package punkt to /root/nltk_data...\n",
            "[nltk_data]   Package punkt is already up-to-date!\n"
          ]
        }
      ]
    },
    {
      "cell_type": "code",
      "source": [
        "unique_token = [] ##contains ubique tokens/words\n",
        "\n",
        "with open(path1) as f:\n",
        "  txt_data = f.read().lower()\n",
        "tokenized_txt = word_tokenize(txt_data)\n",
        "\n",
        "with open(path2) as f:\n",
        "  cleaned_data = f.read().lower()\n",
        "tokenized_output = word_tokenize(cleaned_data) \n",
        "\n",
        "# unique_token = list(set(i.strip() for i in tokenized_txt))##'set' with generator expression\n",
        "unique_token = list({i for i in tokenized_txt}) ## set comprehension\n",
        "\n",
        "print(unique_token)"
      ],
      "metadata": {
        "colab": {
          "base_uri": "https://localhost:8080/"
        },
        "id": "1EkzV4XjCMGk",
        "outputId": "5e34d0e9-3d4c-41dc-805c-f00f4de0a0f9"
      },
      "execution_count": null,
      "outputs": [
        {
          "output_type": "stream",
          "name": "stdout",
          "text": [
            "['top', 'nice', 'ogre', 'human', 'interesting', 'trouble', 'rare', 'chihuahua', 'thunder', 'style', 'indirect', 'radiant', ',', 'danced', 'particularly', 'stone', 'than', 'referring', 'english', 'titanic', '(', 'assonance', 'serious', 'night', 'saw', 'king', 'back', 'part', 'ice', 'letting', 'contradictory', 'is', 'thee', 'worst', 'cards', 'flag', 'off', 'cop', 'using', 'hen', 'uncertain', 'accomplished', '.', 'stolen', 'exaggeration', 'crept', 'billion', 'between', 'include', 'economical', 'winston', 'fred', 'dirt', 'came', 'little', 'describe', 'brutus', 'hopefully', 'bald', 'none', 'horn', 'technique', 'dollars', 'had', 'malice', 'anaphora', 'metaphor', 'wise', 'much', 'firing', 'frost', 'sounds', 'hiding', 'example', 'scary', 'phrase', 'cities', 'literary', 'blind', 'car', 'manner', 'an', 'rustling', 'slippery', 'words', 'first', 'churchill', 'walter', 'needed', 'let', 'begin', 'fog', 'kings', 'pickle', 'ways', 'oomph', 'and', 'thousand', \"'re\", 'the', 'says', 'things', 'wondered', 'temperatures', 'just', 'robert', 'like', 'samuel', 'designed', 'bonnets', 'neighboring', 'legs', 'closet', 'whom', 'gunner', 'oxymoron', 'tale', 'wow', 'flowers', 'what', 'dent', 'passed', 'situational', 'represent', 'will', 'non-literal', 'foolishness', 'fire', 'actors', 'food', 'it', 'splat', 'away', 'snowflakes', 'pack', 'pod', 'secrets', 'raven', 'composition', 'advertisement', 'possesses', 'killing', \"'m\", 'dickens', 'extremely', 'large', 'taylor', 'stylistic', 'vowel', 'favor', 'traffic', ')', 'click', 'sprinkle', 'instead', 'taste', 'frogs', 'caesar', 'or', 'fell', 'shall', 'contrast', 'under', 'when', 'coke', 'used', 'money', 'how', 'sandy', 'we', 'time', 'colloquialism', 'sorrow', 'paying', 'abound', 'blunt', 'wisdom', 'start', 'feel', ';', 'outcomes', 'emphasis', 'desire', 'work', 'eel', 'not', 'its', 'parking', 'situation', 'but', 'springboard', 'repetition', 'liar', 'harsh', 'purple', 'told', 'for', 'drink', 'she', 'poetry', '``', 'mild', 'u', 'unlike', 'midnight', 'policeman', 'has', 'simile', 'jumbo', \"'\", 'wind', 'tasks', 'plastic', 'they', 'common', 'charity', 'poe', 'onomatopoeia', 'nodded', 'charles', 'cost', 'appearance', 'injury', 'fried', 'indeed', 'those', 'reveal', 'going', 'your', 'experience', 'often', 'bat', 'sweet', 'allan', 'two', 'curtain', 'wound', 'seasons', 'gives', 'signifying', 'ideas', '-', 'literature', 'birds', 'us', 'lend', 'offensive', 'examples', 'force', 'well', 'cooler', 'idiom', 'separate', 'abraham', 'conquered', 'dry', 'times', 'verses', 'in', 'i', 'figure', 'sank', 'once', 'makes', 'scratch', 'shakespeare', 'euphemism', 'writing', 'nearly', 'conversely', 'gets', 'alliteration', 'irony', 'resources', 'william', 'are', 'knows', 'marked', 'blow', 'wordsworth', 'angry', 'cola', 'baby', 'provide', 'creative', 'descriptive', 'at', 'through', 'where', 'describing', 'place', 'suspended', 'lyrical', 'truck', 'our', 'oink', 'he', 'a', 'too', 'cat', 'devices', 'present', 'everybody', 'rock', 'uses', 'non-living', 'can', 'old', 'hear', 'seashells', 'shrimp', 'sells', 'family', 'weather', 'said', 'really', 'lincoln', 'hands', 'symbols', 'weekend', 'audience', 'that', 'tickets', 'bag', 'eats', 'toward', 'personification', 'texture', 'out', 'represented', 'particular', 'truth', 'comparison', 'tiny', 'heart', 'was', 'tone', 'by', 'firmness', 'understatement', \"'s\", 'phrases', 'punch', 'hard', 'world', 'right', 'whoosh', 'new', 'today', 'have', 'tasted', 'credit', 'fail', 'jennifer', 'stop', 'one', 'lines', 'killer', 'angels', '!', 'now', 'effect', 'skeletons', 'winnie', 'owl', 'peace', 'peas', 'older', 'definition', 'same', 'be', 'do', 'allen', 'kosher', 'bad', 'hyperbole', 'must', 'language', 'goal', 'make', 'surrender', 'dramatic', 'blue', 'friday', 'something', 'triton', 'word', 'speech', 'maiden', 'expression', 'trapped', 'go', 'thin', 'nick', 'market', 'someone', 'appear', 'beyond', 'you', 'desert', 'wheels', 'these', 'figures', 'grumbled', 'reality', 'bayou', 'more', 'who', 'hold', 'notebooks', 'wreathed', 'whole', 'each', 'meaning', 'sub-zero', 'close', 'john', 'workers', 'also', 'use', 'variety', 'yourself', 'forever', 'term', 'bit', 'verbal', 'symbolism', 'all', 'together', 'from', 'wet', 'feeling', 'e', 'less', 'stings', 'driest', 'occurs', 'speeches', 'oh', 'as', 'o', \"'ve\", 'give', '...', 'wealth', 'meant', 'lenore', 'some', 'writer', 'may', 'express', 'several', '75+', 'beginning', 'his', 'staff', 'therefore', 'life', 'qualities', 'there', 'every', 'bobbed', 'ham', 'ii', 'could', 'hired', \"n't\", 'voyage', 'difficult', 'mad', 'secret', '—', 'never', 'tools', 'free', 'extra', 'type', 'end', 'on', 'julius', 'age', 'with', 'police', 'died', 'sampling', 'able', 'literal', 'pig', 'movie', 'named', 'edgar', ':', 'substitutes', 'to', 'corner', 'her', 'eye-catching', 'of', \"''\", 'any', 'important', 'into', 'stage', 'terms', 'rhetorical', 'getting', 'synecdoche', 'coleridge', 'buzz', 'offer', 'best', 'themselves', 'unsinkable', 'howled', 'this', 'letters']\n"
          ]
        }
      ]
    },
    {
      "cell_type": "code",
      "source": [
        "count1 = 0\n",
        "count2 = 0\n",
        "\n",
        "rand_val = random.randint(0, len(unique_token))\n",
        "rand_figure = unique_token[rand_val]\n",
        "\n",
        "for i in range(len(tokenized_txt)):\n",
        "  if tokenized_txt[i] == rand_figure:\n",
        "    count1 += 1\n",
        "print(f\"Frequency of '{rand_figure}' in data_cleaning2.txt file: {count1}\")\n",
        "\n",
        "for j in range(len(tokenized_output)):\n",
        "  if tokenized_output[j] == rand_figure:\n",
        "    count2 += 1\n",
        "print(f\"Frequency of '{rand_figure}' in cleaned_data.csv file: {count2}\")\n",
        "\n",
        "accuracy = round(((count2/count1)*100),2)\n",
        "print(f\"Accuracy achieved for random figure '{rand_figure}': {accuracy} %\")"
      ],
      "metadata": {
        "colab": {
          "base_uri": "https://localhost:8080/"
        },
        "id": "3hke1AYLVnMW",
        "outputId": "d138598c-5274-4371-82f2-15c2622a6fd7"
      },
      "execution_count": null,
      "outputs": [
        {
          "output_type": "stream",
          "name": "stdout",
          "text": [
            "Frequency of 'its' in data_cleaning2.txt file: 2\n",
            "Frequency of 'its' in cleaned_data.csv file: 1\n",
            "Accuracy achieved for random figure 'its': 50.0 %\n"
          ]
        }
      ]
    }
  ]
}