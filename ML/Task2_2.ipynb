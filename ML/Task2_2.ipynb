{
  "nbformat": 4,
  "nbformat_minor": 0,
  "metadata": {
    "colab": {
      "name": "Task2_2.ipynb",
      "provenance": [],
      "collapsed_sections": [],
      "mount_file_id": "1HL7ppuzd6lnFlikDN8EQ1ZC4u6ApEeJS",
      "authorship_tag": "ABX9TyOv/gamuowBDLz/sR5lxfLO",
      "include_colab_link": true
    },
    "kernelspec": {
      "name": "python3",
      "display_name": "Python 3"
    },
    "language_info": {
      "name": "python"
    }
  },
  "cells": [
    {
      "cell_type": "markdown",
      "metadata": {
        "id": "view-in-github",
        "colab_type": "text"
      },
      "source": [
        "<a href=\"https://colab.research.google.com/github/Thinley24/TIJ-Intern-2022-/blob/main/ML/Task2_2.ipynb\" target=\"_parent\"><img src=\"https://colab.research.google.com/assets/colab-badge.svg\" alt=\"Open In Colab\"/></a>"
      ]
    },
    {
      "cell_type": "code",
      "execution_count": null,
      "metadata": {
        "id": "EoBz0jgm8rvj"
      },
      "outputs": [],
      "source": [
        "!pip install janome"
      ]
    },
    {
      "cell_type": "code",
      "source": [
        "!pip install spacy"
      ],
      "metadata": {
        "id": "QxeK_w_C9V96"
      },
      "execution_count": null,
      "outputs": []
    },
    {
      "cell_type": "code",
      "source": [
        "!python -m spacy download en_core_web_sm"
      ],
      "metadata": {
        "id": "vTny1vdm9m_e"
      },
      "execution_count": null,
      "outputs": []
    },
    {
      "cell_type": "code",
      "source": [
        "from janome.tokenizer import Tokenizer\n",
        "import spacy"
      ],
      "metadata": {
        "id": "MnbihrJJ9xHW"
      },
      "execution_count": null,
      "outputs": []
    },
    {
      "cell_type": "code",
      "source": [
        "t = Tokenizer()\n",
        "## reading .txt file\n",
        "with open('/content/drive/MyDrive/Colab Notebooks/datasets/Japanese_article.txt') as f:\n",
        "  df = f.read()\n",
        "print(df)"
      ],
      "metadata": {
        "colab": {
          "base_uri": "https://localhost:8080/"
        },
        "id": "HrNZ77-F93-0",
        "outputId": "8998e76b-0acf-4ecb-fb15-79535ae61898"
      },
      "execution_count": null,
      "outputs": [
        {
          "output_type": "stream",
          "name": "stdout",
          "text": [
            "NY株、1年5カ月ぶり3万ドル割れ　景気減速の懸念高まる\n",
            "\n",
            "16日の米ニューヨーク株式市場は、主要企業でつくるダウ工業株平均が急落して取引が始まった。一時、前日より700ドル超値下がりし、取引時間中として約1年5カ月ぶりに3万ドル台を割り込んだ。下げ幅が800ドルを超える場面もあった。この日、スイス国立銀行と英国のイングランド銀行が物価高を抑えるために政策金利の引き上げを発表。相次ぐ中央銀行の金融引き締めで景気減速の懸念が高まり、株式が売られた。\n"
          ]
        }
      ]
    },
    {
      "cell_type": "code",
      "source": [
        "token_text_list = [x.surface for x in t.tokenize(df)]\n",
        "print(token_text_list)"
      ],
      "metadata": {
        "colab": {
          "base_uri": "https://localhost:8080/"
        },
        "id": "QhifYqUgE-4t",
        "outputId": "3c1311ab-2fbf-44c1-f4e9-01a443fe8262"
      },
      "execution_count": null,
      "outputs": [
        {
          "output_type": "stream",
          "name": "stdout",
          "text": [
            "['NY', '株', '、', '1', '年', '5', 'カ月', 'ぶり', '3', '万', 'ドル', '割れ', '\\u3000', '景気', '減速', 'の', '懸念', '高まる', '\\n\\n', '16', '日', 'の', '米', 'ニューヨーク', '株式', '市場', 'は', '、', '主要', '企業', 'で', 'つくる', 'ダウ', '工業', '株', '平均', 'が', '急落', 'し', 'て', '取引', 'が', '始まっ', 'た', '。', '一時', '、', '前日', 'より', '700', 'ドル', '超', '値下がり', 'し', '、', '取引', '時間', '中', 'として', '約', '1', '年', '5', 'カ月', 'ぶり', 'に', '3', '万', 'ドル', '台', 'を', '割り込ん', 'だ', '。', '下げ', '幅', 'が', '800', 'ドル', 'を', '超える', '場面', 'も', 'あっ', 'た', '。', 'この', '日', '、', 'スイス', '国立', '銀行', 'と', '英国', 'の', 'イングランド銀行', 'が', '物価高', 'を', '抑える', 'ため', 'に', '政策', '金利', 'の', '引き上げ', 'を', '発表', '。', '相次ぐ', '中央', '銀行', 'の', '金融', '引き締め', 'で', '景気', '減速', 'の', '懸念', 'が', '高まり', '、', '株式', 'が', '売ら', 'れ', 'た', '。']\n"
          ]
        }
      ]
    },
    {
      "cell_type": "code",
      "source": [
        "nlp = spacy.load(\"en_core_web_sm\")"
      ],
      "metadata": {
        "id": "x5DR_4SRFQtV"
      },
      "execution_count": null,
      "outputs": []
    },
    {
      "cell_type": "code",
      "source": [
        "##pos-tag sequence\n",
        "tokens_doc = spacy.tokens.Doc(nlp.vocab, words=token_text_list, spaces = [False] * len(token_text_list))\n",
        "\n",
        "for pipe_name in nlp.pipe_names:\n",
        "  nlp.get_pipe(pipe_name)(tokens_doc)\n",
        "\n",
        "token_tag_list = [token.tag_ for token in tokens_doc]"
      ],
      "metadata": {
        "id": "o8WEEiPDFjgo"
      },
      "execution_count": null,
      "outputs": []
    },
    {
      "cell_type": "code",
      "source": [
        "cons_pair_list = list(zip(token_text_list, token_tag_list))\n",
        "print(cons_pair_list)"
      ],
      "metadata": {
        "colab": {
          "base_uri": "https://localhost:8080/"
        },
        "id": "7id9l2XmGQVW",
        "outputId": "ec25fc5c-6325-4f8b-8e94-624f82c8a719"
      },
      "execution_count": null,
      "outputs": [
        {
          "output_type": "stream",
          "name": "stdout",
          "text": [
            "[('NY', 'NNP'), ('株', 'NNP'), ('、', 'NNP'), ('1', 'CD'), ('年', 'NNP'), ('5', 'CD'), ('カ月', 'SYM'), ('ぶり', 'NNP'), ('3', 'CD'), ('万', 'NNP'), ('ドル', 'NNP'), ('割れ', 'NNP'), ('\\u3000', '_SP'), ('景気', 'NNP'), ('減速', 'IN'), ('の', 'NNP'), ('懸念', 'NN'), ('高まる', 'NNP'), ('\\n\\n', '_SP'), ('16', 'CD'), ('日', 'NN'), ('の', 'NNP'), ('米', 'NNP'), ('ニューヨーク', 'JJ'), ('株式', 'NNP'), ('市場', 'NNP'), ('は', 'NNP'), ('、', 'NNP'), ('主要', 'IN'), ('企業', 'NNP'), ('で', 'XX'), ('つくる', 'NNP'), ('ダウ', 'NNP'), ('工業', 'NNP'), ('株', 'NNP'), ('平均', 'NNP'), ('が', 'NNP'), ('急落', 'NNP'), ('し', 'NNP'), ('て', 'NNP'), ('取引', 'NNP'), ('が', 'NNP'), ('始まっ', 'NN'), ('た', 'NNP'), ('。', 'NNP'), ('一時', 'NNP'), ('、', 'NNP'), ('前日', 'NNP'), ('より', 'NNP'), ('700', 'CD'), ('ドル', 'NNP'), ('超', 'NNP'), ('値下がり', 'NNP'), ('し', 'NNP'), ('、', 'NNP'), ('取引', 'NNP'), ('時間', 'NNP'), ('中', 'NNP'), ('として', 'NNP'), ('約', 'NNP'), ('1', 'CD'), ('年', 'NN'), ('5', 'CD'), ('カ月', 'SYM'), ('ぶり', 'NNP'), ('に', 'NNP'), ('3', 'NNP'), ('万', 'NNP'), ('ドル', 'NNP'), ('台', 'NNP'), ('を', 'NNP'), ('割り込ん', 'NNP'), ('だ', 'NNP'), ('。', 'NNP'), ('下げ', 'NNP'), ('幅', 'NNP'), ('が', 'NNP'), ('800', 'CD'), ('ドル', 'NN'), ('を', 'NNP'), ('超える', 'NNP'), ('場面', 'NNP'), ('も', 'NNP'), ('あっ', 'NNP'), ('た', 'NNP'), ('。', 'NNP'), ('この', 'NNP'), ('日', 'NNP'), ('、', 'NNP'), ('スイス', 'NN'), ('国立', 'NNP'), ('銀行', 'NNP'), ('と', 'NNP'), ('英国', 'NNP'), ('の', 'NNP'), ('イングランド銀行', 'NNP'), ('が', 'NNP'), ('物価高', 'NNP'), ('を', 'NNP'), ('抑える', 'NN'), ('ため', 'WRB'), ('に', 'NNP'), ('政策', 'NNP'), ('金利', 'NNP'), ('の', 'NNP'), ('引き上げ', 'NNP'), ('を', 'NNP'), ('発表', 'NNP'), ('。', 'NNP'), ('相次ぐ', 'NNP'), ('中央', 'NNP'), ('銀行', 'NNP'), ('の', 'NNP'), ('金融', 'NNP'), ('引き締め', 'NNP'), ('で', 'XX'), ('景気', 'NNP'), ('減速', 'IN'), ('の', 'NNP'), ('懸念', 'NNP'), ('が', 'NNP'), ('高まり', 'NNP'), ('、', 'NNP'), ('株式', 'NNP'), ('が', 'NN'), ('売ら', 'NNP'), ('れ', 'NNP'), ('た', 'NNP'), ('。', '.')]\n"
          ]
        }
      ]
    },
    {
      "cell_type": "code",
      "source": [
        "## extracting only NN\n",
        "list_NN = [i[0] for i in cons_pair_list if i[1]==\"NN\"]\n",
        "print(f\"There are {len(list_NN)} NOUNs\\nFollowing are the lists:\\n{list_NN}\")"
      ],
      "metadata": {
        "colab": {
          "base_uri": "https://localhost:8080/"
        },
        "id": "RgCr8Ei_GcXR",
        "outputId": "d6b600e3-6531-4429-8f0c-5720aef0b9bb"
      },
      "execution_count": null,
      "outputs": [
        {
          "output_type": "stream",
          "name": "stdout",
          "text": [
            "There are 8 NOUNs\n",
            "Following are the lists:\n",
            "['懸念', '日', '始まっ', '年', 'ドル', 'スイス', '抑える', 'が']\n"
          ]
        }
      ]
    }
  ]
}